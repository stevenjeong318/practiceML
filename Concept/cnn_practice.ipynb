{
  "nbformat": 4,
  "nbformat_minor": 0,
  "metadata": {
    "colab": {
      "name": "cnn_practice.ipynb",
      "provenance": [],
      "collapsed_sections": []
    },
    "kernelspec": {
      "name": "python3",
      "display_name": "Python 3"
    },
    "language_info": {
      "name": "python"
    }
  },
  "cells": [
    {
      "cell_type": "markdown",
      "metadata": {
        "id": "86b64hPrxvVN"
      },
      "source": [
        "## Build Convolutional Neural Network using Keras with MNIST Fashion Dataset\n",
        "\n"
      ]
    },
    {
      "cell_type": "code",
      "metadata": {
        "id": "v3D-CVcNyAMV"
      },
      "source": [
        "#import libraries\n",
        "import tensorflow as tf\n",
        "from tensorflow import keras\n",
        "import numpy as np\n",
        "import pandas as pd\n",
        "import matplotlib.pyplot as plt"
      ],
      "execution_count": null,
      "outputs": []
    },
    {
      "cell_type": "code",
      "metadata": {
        "colab": {
          "base_uri": "https://localhost:8080/"
        },
        "id": "jL4gCYQCyaT2",
        "outputId": "e3fcfd80-a68d-4176-e3b1-735eb36831f9"
      },
      "source": [
        "#import MNIST fashion dataset\n",
        "fashion_mnist = keras.datasets.fashion_mnist\n",
        "(X_train, y_train), (X_test, y_test) = fashion_mnist.load_data()"
      ],
      "execution_count": null,
      "outputs": [
        {
          "output_type": "stream",
          "name": "stdout",
          "text": [
            "Downloading data from https://storage.googleapis.com/tensorflow/tf-keras-datasets/train-labels-idx1-ubyte.gz\n",
            "32768/29515 [=================================] - 0s 0us/step\n",
            "40960/29515 [=========================================] - 0s 0us/step\n",
            "Downloading data from https://storage.googleapis.com/tensorflow/tf-keras-datasets/train-images-idx3-ubyte.gz\n",
            "26427392/26421880 [==============================] - 0s 0us/step\n",
            "26435584/26421880 [==============================] - 0s 0us/step\n",
            "Downloading data from https://storage.googleapis.com/tensorflow/tf-keras-datasets/t10k-labels-idx1-ubyte.gz\n",
            "16384/5148 [===============================================================================================] - 0s 0us/step\n",
            "Downloading data from https://storage.googleapis.com/tensorflow/tf-keras-datasets/t10k-images-idx3-ubyte.gz\n",
            "4423680/4422102 [==============================] - 0s 0us/step\n",
            "4431872/4422102 [==============================] - 0s 0us/step\n"
          ]
        }
      ]
    },
    {
      "cell_type": "code",
      "metadata": {
        "colab": {
          "base_uri": "https://localhost:8080/"
        },
        "id": "azrA3YIMz35T",
        "outputId": "88409d3c-cc36-4f88-c53b-b00ed7b9350b"
      },
      "source": [
        "len(X_train), len(X_test)"
      ],
      "execution_count": null,
      "outputs": [
        {
          "output_type": "execute_result",
          "data": {
            "text/plain": [
              "(60000, 10000)"
            ]
          },
          "metadata": {},
          "execution_count": 11
        }
      ]
    },
    {
      "cell_type": "code",
      "metadata": {
        "colab": {
          "base_uri": "https://localhost:8080/",
          "height": 160
        },
        "id": "Z50sf4O_yt1U",
        "outputId": "1416ec42-344f-4df3-d4d6-42885fb1ec7a"
      },
      "source": [
        "#show images in dataset labeled 0 to 9 in gray\n",
        "num_class = 10\n",
        "\n",
        "f, ax = plt.subplots(1, num_class, figsize=(20, 20))\n",
        "\n",
        "for i in range(0, num_class):\n",
        "  sample = X_train[y_train == i][0]\n",
        "  ax[i].imshow(sample, cmap='gray')\n",
        "  ax[i].set_title(\"Label: {}\".format(i), fontsize=16)"
      ],
      "execution_count": null,
      "outputs": [
        {
          "output_type": "display_data",
          "data": {
            "image/png": "[encoded data removed]",
            "text/plain": [
              "<Figure size 1440x1440 with 10 Axes>"
            ]
          },
          "metadata": {
            "needs_background": "light"
          }
        }
      ]
    },
    {
      "cell_type": "code",
      "metadata": {
        "id": "JhCsA4KNzJVg"
      },
      "source": [
        "#reshaping and normalizing\n",
        "X_train = X_train.reshape((60000, 28, 28, 1))\n",
        "X_test = X_test.reshape((10000, 28, 28, 1))\n",
        "\n",
        "X_train, X_test = X_train / 255., X_test / 255."
      ],
      "execution_count": null,
      "outputs": []
    },
    {
      "cell_type": "code",
      "metadata": {
        "id": "e3U12PaA02Sz"
      },
      "source": [
        "#build model\n",
        "model = tf.keras.models.Sequential()\n",
        "model.add(tf.keras.layers.Conv2D(32, (3, 3), activation='relu', input_shape=(28, 28, 1)))\n",
        "model.add(tf.keras.layers.MaxPooling2D((2, 2)))\n",
        "model.add(tf.keras.layers.Conv2D(64, (3, 3), activation='relu'))\n",
        "model.add(tf.keras.layers.MaxPooling2D((2, 2)))\n",
        "model.add(tf.keras.layers.Conv2D(64, (3, 3), activation='relu'))\n",
        "model.add(tf.keras.layers.Flatten())\n",
        "model.add(tf.keras.layers.Dense(64, activation='relu'))\n",
        "model.add(tf.keras.layers.Dense(10, activation='softmax'))"
      ],
      "execution_count": null,
      "outputs": []
    },
    {
      "cell_type": "code",
      "metadata": {
        "id": "zaAltm5C1dw5"
      },
      "source": [
        "#compile model\n",
        "model.compile(optimizer='adam',\n",
        "              loss='sparse_categorical_crossentropy',\n",
        "              metrics=['accuracy'])"
      ],
      "execution_count": null,
      "outputs": []
    },
    {
      "cell_type": "code",
      "metadata": {
        "colab": {
          "base_uri": "https://localhost:8080/"
        },
        "id": "v9Gg7aUMyAP1",
        "outputId": "bf56900f-472f-455f-c819-6cc50783f426"
      },
      "source": [
        "#fit model\n",
        "model.fit(X_train, y_train, epochs=10)"
      ],
      "execution_count": null,
      "outputs": [
        {
          "output_type": "stream",
          "name": "stdout",
          "text": [
            "Epoch 1/10\n",
            "1875/1875 [==============================] - 60s 31ms/step - loss: 0.4973 - accuracy: 0.8176\n",
            "Epoch 2/10\n",
            "1875/1875 [==============================] - 60s 32ms/step - loss: 0.3242 - accuracy: 0.8820\n",
            "Epoch 3/10\n",
            "1875/1875 [==============================] - 60s 32ms/step - loss: 0.2741 - accuracy: 0.8995\n",
            "Epoch 4/10\n",
            "1875/1875 [==============================] - 61s 32ms/step - loss: 0.2459 - accuracy: 0.9093\n",
            "Epoch 5/10\n",
            "1875/1875 [==============================] - 60s 32ms/step - loss: 0.2193 - accuracy: 0.9182\n",
            "Epoch 6/10\n",
            "1875/1875 [==============================] - 61s 32ms/step - loss: 0.1995 - accuracy: 0.9252\n",
            "Epoch 7/10\n",
            "1875/1875 [==============================] - 61s 32ms/step - loss: 0.1818 - accuracy: 0.9318\n",
            "Epoch 8/10\n",
            "1875/1875 [==============================] - 61s 32ms/step - loss: 0.1641 - accuracy: 0.9387\n",
            "Epoch 9/10\n",
            "1875/1875 [==============================] - 62s 33ms/step - loss: 0.1537 - accuracy: 0.9425\n",
            "Epoch 10/10\n",
            "1875/1875 [==============================] - 64s 34ms/step - loss: 0.1401 - accuracy: 0.9482\n"
          ]
        },
        {
          "output_type": "execute_result",
          "data": {
            "text/plain": [
              "<keras.callbacks.History at 0x7fd4fdb5e650>"
            ]
          },
          "metadata": {},
          "execution_count": 18
        }
      ]
    },
    {
      "cell_type": "code",
      "metadata": {
        "colab": {
          "base_uri": "https://localhost:8080/"
        },
        "id": "IBnlx7Xr1v13",
        "outputId": "8e44ac87-4b78-4272-b243-aeda63bde81b"
      },
      "source": [
        "#evaluate model\n",
        "test_loss, test_acc = model.evaluate(X_test, y_test, verbose=1)"
      ],
      "execution_count": null,
      "outputs": [
        {
          "output_type": "stream",
          "name": "stdout",
          "text": [
            "313/313 [==============================] - 4s 12ms/step - loss: 0.2789 - accuracy: 0.9082\n"
          ]
        }
      ]
    }
  ]
}