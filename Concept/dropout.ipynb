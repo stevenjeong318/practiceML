{
  "nbformat": 4,
  "nbformat_minor": 0,
  "metadata": {
    "colab": {
      "name": "dropout.ipynb",
      "provenance": [],
      "collapsed_sections": []
    },
    "kernelspec": {
      "name": "python3",
      "display_name": "Python 3"
    },
    "language_info": {
      "name": "python"
    }
  },
  "cells": [
    {
      "cell_type": "markdown",
      "metadata": {
        "id": "Zl7Zs8EQ7RXd"
      },
      "source": [
        "# Efficiency of dropout\n",
        "\n",
        "In this notebook, I will implement three NN in Keras, one not using dropout and other two using dropout (with different proportion)\n",
        "\n",
        "* Environment: Google colab, Keras\n",
        "* Dataset used: MNIST digit\n",
        "* Last updated: 2021-11-08\n"
      ]
    },
    {
      "cell_type": "code",
      "metadata": {
        "id": "2o5oDbAA7LlK"
      },
      "source": [
        "#import libraries\n",
        "\n",
        "import numpy as np\n",
        "import pandas as pd\n",
        "import matplotlib.pyplot as plt\n",
        "import seaborn as sns\n",
        "\n",
        "import tensorflow as tf\n",
        "from tensorflow import keras\n",
        "from keras.models import Sequential\n",
        "from keras.layers import Dense, Dropout"
      ],
      "execution_count": 1,
      "outputs": []
    },
    {
      "cell_type": "code",
      "metadata": {
        "id": "c-fP-_1M76Gw"
      },
      "source": [
        "#import dataset\n",
        "from keras.datasets import mnist\n",
        "(X_train, y_train), (X_test, y_test) = mnist.load_data()"
      ],
      "execution_count": 2,
      "outputs": []
    },
    {
      "cell_type": "code",
      "metadata": {
        "id": "GUXtAI4X9B3f"
      },
      "source": [
        "#one-hot encoding\n",
        "y_train = keras.utils.to_categorical(y_train, num_classes=10)\n",
        "y_test = keras.utils.to_categorical(y_test, num_classes=10)"
      ],
      "execution_count": 3,
      "outputs": []
    },
    {
      "cell_type": "code",
      "metadata": {
        "id": "t0OwFvK_9O7v"
      },
      "source": [
        "#normalize data (0~1)\n",
        "X_train = X_train / 255.0\n",
        "X_test = X_test / 255.0\n",
        "\n",
        "#reshape data\n",
        "X_train = X_train.reshape(X_train.shape[0], -1)\n",
        "X_test = X_test.reshape(X_test.shape[0], -1)"
      ],
      "execution_count": 4,
      "outputs": []
    },
    {
      "cell_type": "code",
      "metadata": {
        "colab": {
          "base_uri": "https://localhost:8080/"
        },
        "id": "Q5ggiBGO9nBu",
        "outputId": "44fd1911-8c84-4212-d0a0-1577120e0e85"
      },
      "source": [
        "#create models\n",
        "\n",
        "\n",
        "#model1 = no dropout\n",
        "model1 = Sequential([\n",
        "  Dense(units=128, input_shape=(784,), activation='relu'),\n",
        "  Dense(units=64, activation='relu'),\n",
        "  Dense(units=10, activation='softmax')\n",
        "])\n",
        "\n",
        "\n",
        "#compile model\n",
        "\n",
        "model1.summary()\n",
        "model1.compile(loss='categorical_crossentropy', optimizer='adam', metrics=['accuracy'])"
      ],
      "execution_count": 5,
      "outputs": [
        {
          "output_type": "stream",
          "name": "stdout",
          "text": [
            "Model: \"sequential\"\n",
            "_________________________________________________________________\n",
            "Layer (type)                 Output Shape              Param #   \n",
            "=================================================================\n",
            "dense (Dense)                (None, 128)               100480    \n",
            "_________________________________________________________________\n",
            "dense_1 (Dense)              (None, 64)                8256      \n",
            "_________________________________________________________________\n",
            "dense_2 (Dense)              (None, 10)                650       \n",
            "=================================================================\n",
            "Total params: 109,386\n",
            "Trainable params: 109,386\n",
            "Non-trainable params: 0\n",
            "_________________________________________________________________\n"
          ]
        }
      ]
    },
    {
      "cell_type": "code",
      "metadata": {
        "colab": {
          "base_uri": "https://localhost:8080/"
        },
        "id": "WAZIqy419whK",
        "outputId": "e1603ba6-5749-4a10-f212-a90b52ad8659"
      },
      "source": [
        "#create models\n",
        "\n",
        "\n",
        "#model2 = dropout prportion 0.2\n",
        "model2 = Sequential([\n",
        "  Dense(units=128, input_shape=(784,), activation='relu'),\n",
        "  Dropout(0.2),\n",
        "  Dense(units=64, activation='relu'),\n",
        "  Dropout(0.2),\n",
        "  Dense(units=10, activation='softmax')\n",
        "])\n",
        "\n",
        "\n",
        "#compile model\n",
        "\n",
        "model2.summary()\n",
        "model2.compile(loss='categorical_crossentropy', optimizer='adam', metrics=['accuracy'])"
      ],
      "execution_count": 6,
      "outputs": [
        {
          "output_type": "stream",
          "name": "stdout",
          "text": [
            "Model: \"sequential_1\"\n",
            "_________________________________________________________________\n",
            "Layer (type)                 Output Shape              Param #   \n",
            "=================================================================\n",
            "dense_3 (Dense)              (None, 128)               100480    \n",
            "_________________________________________________________________\n",
            "dropout (Dropout)            (None, 128)               0         \n",
            "_________________________________________________________________\n",
            "dense_4 (Dense)              (None, 64)                8256      \n",
            "_________________________________________________________________\n",
            "dropout_1 (Dropout)          (None, 64)                0         \n",
            "_________________________________________________________________\n",
            "dense_5 (Dense)              (None, 10)                650       \n",
            "=================================================================\n",
            "Total params: 109,386\n",
            "Trainable params: 109,386\n",
            "Non-trainable params: 0\n",
            "_________________________________________________________________\n"
          ]
        }
      ]
    },
    {
      "cell_type": "code",
      "metadata": {
        "colab": {
          "base_uri": "https://localhost:8080/"
        },
        "id": "Xmi_15fc-RVY",
        "outputId": "6aa97fcb-b888-438f-d6a7-e9bbb90b5011"
      },
      "source": [
        "#create models\n",
        "\n",
        "\n",
        "#model3 = dropout prportion 0.5\n",
        "model3 = Sequential([\n",
        "  Dense(units=128, input_shape=(784,), activation='relu'),\n",
        "  Dropout(0.5),\n",
        "  Dense(units=64, activation='relu'),\n",
        "  Dropout(0.5),\n",
        "  Dense(units=10, activation='softmax')\n",
        "])\n",
        "\n",
        "\n",
        "#compile model\n",
        "\n",
        "model3.summary()\n",
        "model3.compile(loss='categorical_crossentropy', optimizer='adam', metrics=['accuracy'])"
      ],
      "execution_count": 7,
      "outputs": [
        {
          "output_type": "stream",
          "name": "stdout",
          "text": [
            "Model: \"sequential_2\"\n",
            "_________________________________________________________________\n",
            "Layer (type)                 Output Shape              Param #   \n",
            "=================================================================\n",
            "dense_6 (Dense)              (None, 128)               100480    \n",
            "_________________________________________________________________\n",
            "dropout_2 (Dropout)          (None, 128)               0         \n",
            "_________________________________________________________________\n",
            "dense_7 (Dense)              (None, 64)                8256      \n",
            "_________________________________________________________________\n",
            "dropout_3 (Dropout)          (None, 64)                0         \n",
            "_________________________________________________________________\n",
            "dense_8 (Dense)              (None, 10)                650       \n",
            "=================================================================\n",
            "Total params: 109,386\n",
            "Trainable params: 109,386\n",
            "Non-trainable params: 0\n",
            "_________________________________________________________________\n"
          ]
        }
      ]
    },
    {
      "cell_type": "code",
      "metadata": {
        "colab": {
          "base_uri": "https://localhost:8080/"
        },
        "id": "yfn1CeRq-7Ji",
        "outputId": "104afbf3-253c-4c79-959f-39dafd192a02"
      },
      "source": [
        "#train each model\n",
        "\n",
        "model1.fit(x=X_train, y=y_train, batch_size=64, epochs=10, validation_split=0.1)"
      ],
      "execution_count": 8,
      "outputs": [
        {
          "output_type": "stream",
          "name": "stdout",
          "text": [
            "Epoch 1/10\n",
            "844/844 [==============================] - 3s 3ms/step - loss: 0.2959 - accuracy: 0.9153 - val_loss: 0.1175 - val_accuracy: 0.9673\n",
            "Epoch 2/10\n",
            "844/844 [==============================] - 2s 2ms/step - loss: 0.1234 - accuracy: 0.9629 - val_loss: 0.1006 - val_accuracy: 0.9682\n",
            "Epoch 3/10\n",
            "844/844 [==============================] - 2s 3ms/step - loss: 0.0835 - accuracy: 0.9749 - val_loss: 0.0954 - val_accuracy: 0.9717\n",
            "Epoch 4/10\n",
            "844/844 [==============================] - 2s 3ms/step - loss: 0.0640 - accuracy: 0.9802 - val_loss: 0.0863 - val_accuracy: 0.9762\n",
            "Epoch 5/10\n",
            "844/844 [==============================] - 2s 3ms/step - loss: 0.0490 - accuracy: 0.9846 - val_loss: 0.0896 - val_accuracy: 0.9728\n",
            "Epoch 6/10\n",
            "844/844 [==============================] - 2s 3ms/step - loss: 0.0400 - accuracy: 0.9879 - val_loss: 0.0873 - val_accuracy: 0.9773\n",
            "Epoch 7/10\n",
            "844/844 [==============================] - 2s 3ms/step - loss: 0.0327 - accuracy: 0.9901 - val_loss: 0.0913 - val_accuracy: 0.9777\n",
            "Epoch 8/10\n",
            "844/844 [==============================] - 2s 3ms/step - loss: 0.0255 - accuracy: 0.9919 - val_loss: 0.0835 - val_accuracy: 0.9780\n",
            "Epoch 9/10\n",
            "844/844 [==============================] - 2s 3ms/step - loss: 0.0231 - accuracy: 0.9926 - val_loss: 0.0884 - val_accuracy: 0.9770\n",
            "Epoch 10/10\n",
            "844/844 [==============================] - 2s 2ms/step - loss: 0.0198 - accuracy: 0.9936 - val_loss: 0.0893 - val_accuracy: 0.9790\n"
          ]
        },
        {
          "output_type": "execute_result",
          "data": {
            "text/plain": [
              "<keras.callbacks.History at 0x7fabfc2bb750>"
            ]
          },
          "metadata": {},
          "execution_count": 8
        }
      ]
    },
    {
      "cell_type": "code",
      "metadata": {
        "colab": {
          "base_uri": "https://localhost:8080/"
        },
        "id": "v8jtvbL--6Wl",
        "outputId": "643c60a4-c8ca-4e84-9265-6be81f10e0fd"
      },
      "source": [
        "model2.fit(x=X_train, y=y_train, batch_size=64, epochs=10, validation_split=0.1)"
      ],
      "execution_count": 9,
      "outputs": [
        {
          "output_type": "stream",
          "name": "stdout",
          "text": [
            "Epoch 1/10\n",
            "844/844 [==============================] - 3s 3ms/step - loss: 0.4061 - accuracy: 0.8774 - val_loss: 0.1317 - val_accuracy: 0.9608\n",
            "Epoch 2/10\n",
            "844/844 [==============================] - 2s 3ms/step - loss: 0.1826 - accuracy: 0.9462 - val_loss: 0.0974 - val_accuracy: 0.9698\n",
            "Epoch 3/10\n",
            "844/844 [==============================] - 2s 3ms/step - loss: 0.1371 - accuracy: 0.9592 - val_loss: 0.0763 - val_accuracy: 0.9768\n",
            "Epoch 4/10\n",
            "844/844 [==============================] - 2s 3ms/step - loss: 0.1150 - accuracy: 0.9657 - val_loss: 0.0774 - val_accuracy: 0.9770\n",
            "Epoch 5/10\n",
            "844/844 [==============================] - 2s 3ms/step - loss: 0.0988 - accuracy: 0.9690 - val_loss: 0.0683 - val_accuracy: 0.9812\n",
            "Epoch 6/10\n",
            "844/844 [==============================] - 2s 3ms/step - loss: 0.0893 - accuracy: 0.9723 - val_loss: 0.0695 - val_accuracy: 0.9813\n",
            "Epoch 7/10\n",
            "844/844 [==============================] - 2s 3ms/step - loss: 0.0818 - accuracy: 0.9742 - val_loss: 0.0707 - val_accuracy: 0.9805\n",
            "Epoch 8/10\n",
            "844/844 [==============================] - 2s 3ms/step - loss: 0.0732 - accuracy: 0.9766 - val_loss: 0.0674 - val_accuracy: 0.9815\n",
            "Epoch 9/10\n",
            "844/844 [==============================] - 2s 3ms/step - loss: 0.0679 - accuracy: 0.9780 - val_loss: 0.0722 - val_accuracy: 0.9797\n",
            "Epoch 10/10\n",
            "844/844 [==============================] - 2s 3ms/step - loss: 0.0629 - accuracy: 0.9795 - val_loss: 0.0682 - val_accuracy: 0.9803\n"
          ]
        },
        {
          "output_type": "execute_result",
          "data": {
            "text/plain": [
              "<keras.callbacks.History at 0x7fabf7aab6d0>"
            ]
          },
          "metadata": {},
          "execution_count": 9
        }
      ]
    },
    {
      "cell_type": "code",
      "metadata": {
        "colab": {
          "base_uri": "https://localhost:8080/"
        },
        "id": "QjoMGh2r-Osa",
        "outputId": "6bdfe36c-2e70-48a4-f02e-347d57710069"
      },
      "source": [
        "model3.fit(x=X_train, y=y_train, batch_size=64, epochs=10, validation_split=0.1)"
      ],
      "execution_count": 10,
      "outputs": [
        {
          "output_type": "stream",
          "name": "stdout",
          "text": [
            "Epoch 1/10\n",
            "844/844 [==============================] - 3s 3ms/step - loss: 0.6820 - accuracy: 0.7867 - val_loss: 0.1770 - val_accuracy: 0.9508\n",
            "Epoch 2/10\n",
            "844/844 [==============================] - 2s 3ms/step - loss: 0.3506 - accuracy: 0.9026 - val_loss: 0.1373 - val_accuracy: 0.9588\n",
            "Epoch 3/10\n",
            "844/844 [==============================] - 2s 3ms/step - loss: 0.2873 - accuracy: 0.9203 - val_loss: 0.1143 - val_accuracy: 0.9663\n",
            "Epoch 4/10\n",
            "844/844 [==============================] - 2s 3ms/step - loss: 0.2514 - accuracy: 0.9294 - val_loss: 0.1062 - val_accuracy: 0.9705\n",
            "Epoch 5/10\n",
            "844/844 [==============================] - 2s 3ms/step - loss: 0.2275 - accuracy: 0.9358 - val_loss: 0.0899 - val_accuracy: 0.9757\n",
            "Epoch 6/10\n",
            "844/844 [==============================] - 2s 3ms/step - loss: 0.2205 - accuracy: 0.9385 - val_loss: 0.0896 - val_accuracy: 0.9748\n",
            "Epoch 7/10\n",
            "844/844 [==============================] - 2s 3ms/step - loss: 0.2035 - accuracy: 0.9432 - val_loss: 0.0896 - val_accuracy: 0.9742\n",
            "Epoch 8/10\n",
            "844/844 [==============================] - 2s 3ms/step - loss: 0.1937 - accuracy: 0.9463 - val_loss: 0.0891 - val_accuracy: 0.9743\n",
            "Epoch 9/10\n",
            "844/844 [==============================] - 2s 3ms/step - loss: 0.1849 - accuracy: 0.9484 - val_loss: 0.0859 - val_accuracy: 0.9740\n",
            "Epoch 10/10\n",
            "844/844 [==============================] - 2s 3ms/step - loss: 0.1748 - accuracy: 0.9499 - val_loss: 0.0831 - val_accuracy: 0.9763\n"
          ]
        },
        {
          "output_type": "execute_result",
          "data": {
            "text/plain": [
              "<keras.callbacks.History at 0x7fabfc12d510>"
            ]
          },
          "metadata": {},
          "execution_count": 10
        }
      ]
    },
    {
      "cell_type": "code",
      "metadata": {
        "colab": {
          "base_uri": "https://localhost:8080/"
        },
        "id": "GFubcVSN_RV5",
        "outputId": "e17b4a67-d253-43a3-ce59-ec32a0095916"
      },
      "source": [
        "#evaluate models\n",
        "test_loss1, test_acc1 = model1.evaluate(x=X_test, y=y_test)\n",
        "print('Test loss: {}, Test accuracy: {}'.format(test_loss1,test_acc1))\n",
        "test_loss2, test_acc2 = model2.evaluate(x=X_test, y=y_test)\n",
        "print('Test loss: {}, Test accuracy: {}'.format(test_loss2,test_acc2))\n",
        "test_loss3, test_acc3 = model3.evaluate(x=X_test, y=y_test)\n",
        "print('Test loss: {}, Test accuracy: {}'.format(test_loss3,test_acc3))"
      ],
      "execution_count": 12,
      "outputs": [
        {
          "output_type": "stream",
          "name": "stdout",
          "text": [
            "313/313 [==============================] - 0s 1ms/step - loss: 0.0820 - accuracy: 0.9771\n",
            "Test loss: 0.0820424035191536, Test accuracy: 0.9771000146865845\n",
            "313/313 [==============================] - 0s 1ms/step - loss: 0.0742 - accuracy: 0.9786\n",
            "Test loss: 0.0742267295718193, Test accuracy: 0.978600025177002\n",
            "313/313 [==============================] - 0s 1ms/step - loss: 0.1003 - accuracy: 0.9717\n",
            "Test loss: 0.10025808960199356, Test accuracy: 0.9717000126838684\n"
          ]
        }
      ]
    },
    {
      "cell_type": "markdown",
      "metadata": {
        "id": "AMeVD4P9_5UE"
      },
      "source": [
        "Overall, three models didn't show big difference both on test accuracy and loss. However, model with suitable proportion of dropout got the highest accuracy and lowest loss. Also, too high proportion dropout can make model even worse, as shown from model 3."
      ]
    }
  ]
}